{
 "cells": [
  {
   "cell_type": "code",
   "execution_count": 1,
   "metadata": {},
   "outputs": [],
   "source": [
    "%load_ext autoreload\n",
    "\n",
    "%autoreload 2"
   ]
  },
  {
   "cell_type": "code",
   "execution_count": 2,
   "metadata": {},
   "outputs": [],
   "source": [
    "import numpy as np\n",
    "\n",
    "from mlapp_models.hidden_markov_model import HiddenMarkovModel"
   ]
  },
  {
   "cell_type": "markdown",
   "metadata": {},
   "source": [
    "# Hidden Markov Model"
   ]
  },
  {
   "cell_type": "markdown",
   "metadata": {},
   "source": [
    "## Create Data"
   ]
  },
  {
   "cell_type": "code",
   "execution_count": 3,
   "metadata": {},
   "outputs": [],
   "source": [
    "# Set the true parameters\n",
    "Psi = np.array([[0.95, 0.05], [0.1, 0.9]])\n",
    "B = np.array(\n",
    "    [\n",
    "        [1 / 6, 1 / 10],\n",
    "        [1 / 6, 1 / 10],\n",
    "        [1 / 6, 1 / 10],\n",
    "        [1 / 6, 1 / 10],\n",
    "        [1 / 6, 1 / 10],\n",
    "        [1 / 6, 5 / 10],\n",
    "    ]\n",
    ")\n",
    "pi = np.array([2 / 3, 1 / 3])\n",
    "\n",
    "# Create a model to sample from it\n",
    "true_model = HiddenMarkovModel(2, 6, Psi=Psi, B=B, pi=pi)"
   ]
  },
  {
   "cell_type": "markdown",
   "metadata": {},
   "source": [
    "Show that, with enough samples, we can recover the parameters (up to graph isomorphism)."
   ]
  },
  {
   "cell_type": "code",
   "execution_count": 4,
   "metadata": {},
   "outputs": [],
   "source": [
    "samples = true_model.sample([100] * 100)"
   ]
  },
  {
   "cell_type": "markdown",
   "metadata": {},
   "source": [
    "## Fit Model"
   ]
  },
  {
   "cell_type": "code",
   "execution_count": 5,
   "metadata": {},
   "outputs": [],
   "source": [
    "model = HiddenMarkovModel(2, 6)"
   ]
  },
  {
   "cell_type": "code",
   "execution_count": 6,
   "metadata": {
    "scrolled": true
   },
   "outputs": [
    {
     "name": "stderr",
     "output_type": "stream",
     "text": [
      "100%|██████████████████████████████████████████████████████████████████████████████| 1000/1000 [04:23<00:00,  3.80it/s]\n"
     ]
    }
   ],
   "source": [
    "model.fit(samples, num_iter=1000)"
   ]
  },
  {
   "cell_type": "code",
   "execution_count": 7,
   "metadata": {},
   "outputs": [
    {
     "name": "stdout",
     "output_type": "stream",
     "text": [
      "MLE Psi\n",
      "[[0.90424317 0.09575683]\n",
      " [0.05163824 0.94836176]]\n",
      "MLE B\n",
      "[[0.08718635 0.16506933]\n",
      " [0.09621213 0.16669855]\n",
      " [0.10419679 0.16382442]\n",
      " [0.09724937 0.16875161]\n",
      " [0.09083798 0.17323998]\n",
      " [0.52431738 0.16241611]]\n",
      "MLE pi\n",
      "[0.28507755 0.71492245]\n"
     ]
    }
   ],
   "source": [
    "print(\"MLE Psi\", model.Psi, \"MLE B\", model.B, \"MLE pi\", model.pi, sep=\"\\n\")"
   ]
  },
  {
   "cell_type": "code",
   "execution_count": 9,
   "metadata": {},
   "outputs": [
    {
     "name": "stdout",
     "output_type": "stream",
     "text": [
      "True Psi\n",
      "[[0.95 0.05]\n",
      " [0.1  0.9 ]]\n",
      "True B\n",
      "[[0.16666667 0.1       ]\n",
      " [0.16666667 0.1       ]\n",
      " [0.16666667 0.1       ]\n",
      " [0.16666667 0.1       ]\n",
      " [0.16666667 0.1       ]\n",
      " [0.16666667 0.5       ]]\n",
      "True pi\n",
      "[0.66666667 0.33333333]\n"
     ]
    }
   ],
   "source": [
    "print(\n",
    "    \"True Psi\",\n",
    "    true_model.Psi,\n",
    "    \"True B\",\n",
    "    true_model.B,\n",
    "    \"True pi\",\n",
    "    true_model.pi,\n",
    "    sep=\"\\n\",\n",
    ")"
   ]
  }
 ],
 "metadata": {
  "kernelspec": {
   "display_name": "Python 3 (ipykernel)",
   "language": "python",
   "name": "python3"
  },
  "language_info": {
   "codemirror_mode": {
    "name": "ipython",
    "version": 3
   },
   "file_extension": ".py",
   "mimetype": "text/x-python",
   "name": "python",
   "nbconvert_exporter": "python",
   "pygments_lexer": "ipython3",
   "version": "3.8.5"
  }
 },
 "nbformat": 4,
 "nbformat_minor": 4
}
