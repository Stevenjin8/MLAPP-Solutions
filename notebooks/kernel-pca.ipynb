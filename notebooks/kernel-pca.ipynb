{
 "cells": [
  {
   "cell_type": "code",
   "execution_count": 1,
   "id": "royal-blank",
   "metadata": {},
   "outputs": [],
   "source": [
    "import numpy as np\n",
    "import matplotlib.pyplot as plt\n",
    "import numba"
   ]
  },
  {
   "cell_type": "code",
   "execution_count": 113,
   "id": "decreased-investment",
   "metadata": {},
   "outputs": [],
   "source": [
    "N_1 = 100\n",
    "q = 4 * np.random.rand(N_1, 1) * 2 * np.pi\n",
    "X_1 = np.concatenate((np.sin(q), np.cos(q)), axis=1) * (\n",
    "    0 + np.random.normal(scale=0.7, size=(N_1, 1))\n",
    ")\n",
    "\n",
    "N_3 = 100\n",
    "q = 4 * np.random.rand(N_3, 1) * 2 * np.pi\n",
    "X_3 = np.concatenate((np.sin(q), np.cos(q)), axis=1) * (\n",
    "    6 + np.random.normal(scale=0.7, size=(N_3, 1))\n",
    ")"
   ]
  },
  {
   "cell_type": "code",
   "execution_count": 98,
   "id": "neutral-athens",
   "metadata": {},
   "outputs": [],
   "source": [
    "N_star = 4000\n",
    "q = 4 * np.random.rand(N_star, 1) * 2 * np.pi\n",
    "X_star = (\n",
    "    np.concatenate((np.sin(q), np.cos(q)), axis=1)\n",
    "    * (4 * np.random.rand(N_star, 1))\n",
    ")"
   ]
  },
  {
   "cell_type": "code",
   "execution_count": 114,
   "id": "modified-stevens",
   "metadata": {},
   "outputs": [
    {
     "data": {
      "image/png": "[encoded data removed]",
      "text/plain": [
       "<Figure size 432x288 with 1 Axes>"
      ]
     },
     "metadata": {
      "needs_background": "light"
     },
     "output_type": "display_data"
    }
   ],
   "source": [
    "plt.plot(*X_1.T, \".\", alpha=0.5)\n",
    "\n",
    "plt.plot(*X_3.T, \".\", alpha=0.5);"
   ]
  },
  {
   "cell_type": "code",
   "execution_count": 108,
   "id": "liberal-arrest",
   "metadata": {},
   "outputs": [],
   "source": [
    "X = np.append(X_1, X_3, axis=0)\n",
    "N = len(X)"
   ]
  },
  {
   "cell_type": "code",
   "execution_count": 109,
   "id": "hourly-rider",
   "metadata": {},
   "outputs": [],
   "source": [
    "@numba.njit\n",
    "def rbf_kernel(x: np.ndarray, y: np.ndarray) -> float:\n",
    "    \"\"\"vectorized RBF kernel\"\"\"\n",
    "    result = np.expand_dims(x, 1) - y\n",
    "    result = -0.5 * result ** 2\n",
    "    result = result.sum(axis=2)\n",
    "    return np.exp(result)"
   ]
  },
  {
   "cell_type": "code",
   "execution_count": 110,
   "id": "raised-preservation",
   "metadata": {},
   "outputs": [],
   "source": [
    "class KernelPCA:\n",
    "    \"\"\"Nonlinear principal component analysis using a kernel.\n",
    "\n",
    "    Attributes\n",
    "    ----------\n",
    "        kernel : callable\n",
    "            Vectorized Mercer kernel function for data points.\n",
    "        data : np.ndarray\n",
    "            Data for the model to fit.\n",
    "        gram_matrix : np.ndarray\n",
    "            The gram matrix.\n",
    "        k_bar : np.ndarray\n",
    "            The column-wise average of the gram matrix\n",
    "        eigvecs : np.ndarray\n",
    "            The eigenvectors of the gram matrix. Sorted backwards by eigenvalue\n",
    "        eigvals : np.ndarray\n",
    "            The eigenvalues of the gram matrix. Sorted backwards.\n",
    "        epsilon : float\n",
    "            Values less extreme to consider as 0\n",
    "    \"\"\"\n",
    "\n",
    "    kernel: callable\n",
    "    data: np.ndarray\n",
    "    gram_matrix: np.ndarray\n",
    "    k_bar: np.ndarray\n",
    "    eigvecs: np.ndarray\n",
    "    eigvals: np.ndarray\n",
    "    n_components: int\n",
    "    epsilon: float\n",
    "\n",
    "    @property\n",
    "    def n(self) -> int:\n",
    "        return len(self.data)\n",
    "\n",
    "    def __init__(self, data: np.ndarray, kernel: callable,  epsilon: float = 0.0000001):\n",
    "        \"\"\"Initialize the class and fit data.\n",
    "        \n",
    "        Parameters\n",
    "        ----------\n",
    "        data : np.ndarray\n",
    "            The data to fit the model.\n",
    "        kernel : callable\n",
    "            Note that the kernel must take in two 1-d arrays, not 2-d arrays. Taking\n",
    "            2-d arrays (and thus vectorizing) would probably be faster.\n",
    "        \"\"\"\n",
    "        self.kernel = kernel\n",
    "        self.data = data\n",
    "        self.epsilon = epsilon\n",
    "\n",
    "        # Create the Gram matrix $K$.\n",
    "        self.gram_matrix = self.kernel(self.data, self.data)\n",
    "        h = np.eye(self.n) - np.ones_like(self.n) / self.n\n",
    "        # Find the centered Gram matrix $K$.\n",
    "        self.centered_gram_matrix = h @ self.gram_matrix @ h\n",
    "\n",
    "        # Fit the model\n",
    "        eigvals, eigvecs = np.linalg.eigh(self.centered_gram_matrix)\n",
    "        # Get rid of small eigenvalues and vectors.\n",
    "        idx = abs(eigvals) > self.epsilon\n",
    "        self.eigvals = eigvals[idx][::-1]  # Order from greatest to least.\n",
    "        self.eigvecs = eigvecs[:, idx][:, ::-1]\n",
    "\n",
    "    def predict(self, x: np.ndarray, n_components: int = 2) -> np.ndarray:\n",
    "        \"\"\"Find the embeddings for new data.\n",
    "\n",
    "        Parameters\n",
    "        ----------\n",
    "        x : np.ndarray\n",
    "            The new data\n",
    "        n_components : int\n",
    "            The number of dimensions to reduce the data.\n",
    "\n",
    "        Returns\n",
    "        -------\n",
    "        z_star : np.ndarray\n",
    "            The embeddings for `x`.\n",
    "        \"\"\"\n",
    "        # Gram matrix where rows are for `x` and columns are for `self.data`.\n",
    "        k_star = self.kernel(x, self.data)\n",
    "\n",
    "        # This is a bit complicated, but basically we are trying to find\n",
    "        # $(\\phi_i - \\bar\\phi)\\Phi U V^{-0.5}$; i.e. we are centering the data in the\n",
    "        # feature (phi) space and then projecting it onto the principal\n",
    "        # components.\n",
    "        z_star = (\n",
    "            k_star\n",
    "            - np.ones((len(k_star), 1)) @ self.gram_matrix.mean(axis=1).reshape(1, -1)\n",
    "            - k_star.mean(axis=1).reshape(-1, 1) @ np.ones((1, len(self.data)))\n",
    "            + self.gram_matrix.mean() * np.ones_like(k_star)\n",
    "        )\n",
    "        z_star = (\n",
    "            z_star\n",
    "            @ self.eigvecs[:, :n_components]\n",
    "            @ np.diag(self.eigvals[:n_components] ** -0.5)\n",
    "        )\n",
    "        return z_star"
   ]
  },
  {
   "cell_type": "code",
   "execution_count": 115,
   "id": "intended-background",
   "metadata": {},
   "outputs": [],
   "source": [
    "kpca = KernelPCA(data=X, kernel=rbf_kernel)"
   ]
  },
  {
   "cell_type": "code",
   "execution_count": 104,
   "id": "middle-march",
   "metadata": {},
   "outputs": [],
   "source": [
    "z_star = kpca.predict(X_star)\n",
    "# z = kpca.predict(X)"
   ]
  },
  {
   "cell_type": "code",
   "execution_count": 116,
   "id": "lovely-occupation",
   "metadata": {},
   "outputs": [
    {
     "data": {
      "image/png": "[encoded data removed]",
      "text/plain": [
       "<Figure size 432x288 with 1 Axes>"
      ]
     },
     "metadata": {
      "needs_background": "light"
     },
     "output_type": "display_data"
    }
   ],
   "source": [
    "plt.plot(*kpca.predict(X_1).T, \".\", alpha=0.4)\n",
    "\n",
    "plt.plot(*kpca.predict(X_3).T, \".\", alpha=0.4);\n",
    "# plt.plot(*z_star.T, \".\", alpha=0.4);"
   ]
  },
  {
   "cell_type": "code",
   "execution_count": 14,
   "id": "affected-intake",
   "metadata": {},
   "outputs": [],
   "source": [
    "from sklearn.datasets import make_circles"
   ]
  },
  {
   "cell_type": "code",
   "execution_count": 31,
   "id": "53a51be2",
   "metadata": {},
   "outputs": [],
   "source": [
    "X, y = make_circles(1000, factor=0.5, noise=0.06)"
   ]
  },
  {
   "cell_type": "code",
   "execution_count": 30,
   "id": "8a23032a",
   "metadata": {},
   "outputs": [
    {
     "data": {
      "text/plain": [
       "[<matplotlib.lines.Line2D at 0x1314870a0>]"
      ]
     },
     "execution_count": 30,
     "metadata": {},
     "output_type": "execute_result"
    },
    {
     "data": {
      "image/png": "[encoded data removed]",
      "text/plain": [
       "<Figure size 432x288 with 1 Axes>"
      ]
     },
     "metadata": {
      "needs_background": "light"
     },
     "output_type": "display_data"
    }
   ],
   "source": [
    "plt.plot(*X.T, \".\")"
   ]
  },
  {
   "cell_type": "code",
   "execution_count": 32,
   "id": "360a9d46",
   "metadata": {},
   "outputs": [
    {
     "data": {
      "text/plain": [
       "array([-0.97358031, -0.24566961])"
      ]
     },
     "execution_count": 32,
     "metadata": {},
     "output_type": "execute_result"
    }
   ],
   "source": [
    "X[0]"
   ]
  },
  {
   "cell_type": "code",
   "execution_count": 33,
   "id": "58710dca",
   "metadata": {},
   "outputs": [
    {
     "data": {
      "text/plain": [
       "array([0, 1, 1, 0, 1, 1, 0, 1, 1, 0, 1, 1, 1, 0, 1, 0, 1, 1, 1, 1, 1, 0,\n",
       "       0, 0, 1, 1, 1, 0, 0, 1, 0, 0, 0, 1, 0, 1, 1, 0, 1, 0, 1, 0, 1, 1,\n",
       "       0, 1, 1, 0, 1, 0, 1, 1, 0, 1, 1, 1, 1, 0, 0, 0, 0, 0, 1, 1, 1, 1,\n",
       "       0, 0, 0, 1, 1, 1, 1, 1, 1, 0, 0, 0, 0, 0, 0, 0, 0, 1, 0, 1, 0, 0,\n",
       "       0, 0, 0, 0, 1, 0, 0, 1, 0, 0, 1, 1, 1, 0, 0, 0, 0, 0, 0, 0, 1, 1,\n",
       "       0, 0, 1, 0, 0, 1, 1, 0, 1, 1, 0, 0, 1, 1, 0, 0, 0, 0, 0, 0, 0, 1,\n",
       "       0, 1, 0, 1, 1, 1, 0, 0, 1, 0, 1, 1, 0, 0, 1, 0, 0, 0, 1, 0, 0, 1,\n",
       "       1, 0, 1, 1, 1, 1, 0, 1, 0, 1, 1, 1, 1, 1, 1, 0, 1, 1, 0, 0, 0, 1,\n",
       "       0, 1, 0, 0, 1, 0, 0, 0, 1, 0, 1, 0, 1, 0, 0, 1, 0, 1, 0, 0, 1, 1,\n",
       "       0, 1, 1, 1, 1, 1, 1, 0, 0, 0, 0, 0, 0, 0, 0, 0, 1, 0, 1, 0, 0, 0,\n",
       "       0, 0, 1, 1, 0, 0, 1, 1, 1, 0, 1, 1, 1, 1, 0, 0, 0, 1, 1, 0, 1, 1,\n",
       "       1, 1, 0, 0, 1, 1, 0, 1, 1, 0, 0, 1, 0, 0, 1, 0, 1, 1, 0, 1, 0, 0,\n",
       "       1, 0, 0, 1, 1, 1, 0, 1, 1, 0, 1, 1, 1, 1, 1, 1, 0, 0, 0, 1, 1, 1,\n",
       "       0, 1, 0, 1, 0, 1, 1, 0, 0, 1, 1, 0, 1, 1, 1, 0, 1, 1, 1, 0, 1, 0,\n",
       "       1, 0, 0, 1, 1, 1, 1, 1, 0, 1, 0, 0, 1, 0, 0, 0, 0, 0, 0, 0, 1, 1,\n",
       "       1, 0, 0, 0, 0, 0, 0, 0, 0, 1, 1, 0, 0, 0, 0, 1, 1, 0, 0, 0, 1, 0,\n",
       "       0, 0, 0, 1, 1, 1, 0, 0, 0, 0, 0, 1, 1, 1, 1, 1, 1, 1, 0, 0, 0, 1,\n",
       "       1, 0, 0, 1, 0, 1, 0, 1, 1, 0, 1, 0, 0, 0, 1, 1, 1, 0, 0, 1, 1, 0,\n",
       "       1, 0, 1, 1, 1, 0, 0, 0, 1, 0, 0, 1, 1, 1, 1, 0, 0, 0, 1, 0, 0, 0,\n",
       "       1, 0, 0, 1, 1, 1, 0, 0, 0, 0, 1, 0, 0, 0, 0, 0, 0, 0, 0, 0, 1, 0,\n",
       "       1, 0, 0, 0, 0, 0, 0, 0, 0, 1, 0, 1, 1, 1, 0, 1, 0, 1, 1, 1, 1, 0,\n",
       "       1, 1, 0, 1, 0, 1, 1, 1, 1, 1, 0, 1, 1, 1, 1, 1, 1, 1, 1, 0, 0, 0,\n",
       "       1, 1, 1, 1, 0, 0, 1, 1, 1, 1, 1, 1, 0, 1, 1, 1, 1, 1, 1, 0, 0, 0,\n",
       "       0, 1, 1, 1, 1, 1, 0, 1, 1, 1, 0, 0, 1, 0, 1, 0, 1, 0, 0, 0, 0, 0,\n",
       "       1, 1, 0, 1, 1, 0, 1, 1, 1, 0, 1, 1, 1, 1, 0, 1, 1, 0, 0, 0, 0, 0,\n",
       "       1, 1, 0, 1, 1, 0, 0, 0, 1, 1, 0, 1, 1, 1, 0, 1, 1, 0, 0, 1, 0, 1,\n",
       "       0, 0, 0, 0, 1, 0, 0, 0, 1, 1, 1, 1, 0, 0, 0, 1, 0, 1, 0, 0, 1, 1,\n",
       "       0, 0, 0, 0, 1, 0, 0, 0, 1, 0, 0, 0, 1, 0, 0, 1, 1, 1, 0, 1, 0, 0,\n",
       "       0, 0, 0, 1, 1, 1, 1, 0, 0, 0, 0, 0, 0, 1, 0, 1, 1, 0, 0, 1, 0, 0,\n",
       "       1, 1, 0, 1, 0, 0, 0, 1, 1, 1, 0, 1, 0, 0, 1, 0, 0, 1, 1, 1, 0, 1,\n",
       "       0, 0, 0, 0, 1, 1, 1, 0, 0, 1, 0, 1, 0, 0, 0, 1, 0, 1, 1, 0, 0, 1,\n",
       "       1, 1, 1, 0, 0, 1, 1, 1, 0, 1, 1, 1, 1, 0, 0, 0, 1, 1, 1, 0, 1, 1,\n",
       "       0, 1, 0, 0, 1, 1, 1, 0, 1, 0, 1, 1, 1, 1, 1, 1, 0, 1, 0, 0, 1, 1,\n",
       "       1, 1, 0, 1, 0, 1, 0, 0, 1, 0, 0, 1, 1, 1, 1, 1, 1, 0, 0, 1, 0, 1,\n",
       "       1, 0, 1, 1, 0, 0, 0, 0, 1, 1, 0, 1, 1, 0, 1, 1, 1, 0, 1, 1, 0, 0,\n",
       "       0, 0, 1, 0, 1, 1, 0, 1, 1, 1, 1, 1, 0, 1, 0, 1, 0, 0, 0, 0, 0, 0,\n",
       "       0, 0, 1, 1, 1, 1, 0, 1, 1, 1, 1, 0, 1, 0, 1, 1, 1, 0, 0, 0, 1, 1,\n",
       "       1, 0, 0, 1, 0, 0, 0, 0, 0, 0, 0, 1, 0, 0, 1, 1, 0, 1, 1, 0, 0, 1,\n",
       "       0, 0, 0, 0, 1, 0, 0, 0, 1, 1, 1, 0, 1, 0, 0, 1, 0, 0, 1, 0, 1, 0,\n",
       "       1, 1, 0, 0, 1, 0, 0, 0, 0, 1, 1, 0, 1, 1, 0, 0, 1, 0, 1, 0, 1, 0,\n",
       "       1, 1, 1, 1, 1, 0, 0, 0, 1, 1, 1, 1, 1, 0, 0, 1, 0, 1, 1, 0, 0, 1,\n",
       "       0, 0, 0, 0, 1, 1, 1, 0, 1, 1, 1, 0, 0, 1, 1, 1, 0, 0, 1, 1, 1, 0,\n",
       "       1, 0, 1, 1, 1, 1, 1, 0, 0, 1, 1, 0, 0, 1, 0, 1, 0, 1, 1, 1, 0, 0,\n",
       "       0, 0, 0, 1, 1, 0, 0, 1, 1, 0, 1, 0, 0, 0, 0, 0, 0, 0, 1, 0, 1, 1,\n",
       "       0, 0, 0, 1, 0, 0, 1, 1, 1, 1, 0, 1, 1, 1, 0, 1, 0, 0, 0, 1, 0, 1,\n",
       "       0, 0, 1, 0, 1, 1, 1, 0, 0, 0])"
      ]
     },
     "execution_count": 33,
     "metadata": {},
     "output_type": "execute_result"
    }
   ],
   "source": [
    "y"
   ]
  },
  {
   "cell_type": "code",
   "execution_count": null,
   "id": "19df4c1e",
   "metadata": {},
   "outputs": [],
   "source": []
  }
 ],
 "metadata": {
  "kernelspec": {
   "display_name": "Python 3 (ipykernel)",
   "language": "python",
   "name": "python3"
  },
  "language_info": {
   "codemirror_mode": {
    "name": "ipython",
    "version": 3
   },
   "file_extension": ".py",
   "mimetype": "text/x-python",
   "name": "python",
   "nbconvert_exporter": "python",
   "pygments_lexer": "ipython3",
   "version": "3.8.5"
  }
 },
 "nbformat": 4,
 "nbformat_minor": 5
}
