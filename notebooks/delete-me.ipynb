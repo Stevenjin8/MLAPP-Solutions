{
 "cells": [
  {
   "cell_type": "code",
   "execution_count": 47,
   "id": "de646440",
   "metadata": {},
   "outputs": [],
   "source": [
    "from sklearn.datasets import make_moons, make_circles, make_checkerboard\n",
    "import matplotlib.pyplot as plt\n",
    "import numpy as np"
   ]
  },
  {
   "cell_type": "code",
   "execution_count": 48,
   "id": "c947daa3",
   "metadata": {},
   "outputs": [],
   "source": [
    "X, y = make_moons(noise=0.1)"
   ]
  },
  {
   "cell_type": "code",
   "execution_count": 49,
   "id": "fe9fb105",
   "metadata": {},
   "outputs": [],
   "source": [
    "X, y = make_circles(noise=0.1, factor=0.5)"
   ]
  },
  {
   "cell_type": "code",
   "execution_count": 45,
   "id": "d2422b8a",
   "metadata": {},
   "outputs": [],
   "source": [
    "X, y = make_blobs(centers=np.array([[5,0],[0,-5]]))"
   ]
  },
  {
   "cell_type": "code",
   "execution_count": 55,
   "id": "30928642",
   "metadata": {},
   "outputs": [],
   "source": [
    "X = make_checkerboard((100,2), 2)"
   ]
  },
  {
   "cell_type": "code",
   "execution_count": 56,
   "id": "744d1c25",
   "metadata": {},
   "outputs": [
    {
     "ename": "TypeError",
     "evalue": "only integer scalar arrays can be converted to a scalar index",
     "output_type": "error",
     "traceback": [
      "\u001b[0;31m---------------------------------------------------------------------------\u001b[0m",
      "\u001b[0;31mTypeError\u001b[0m                                 Traceback (most recent call last)",
      "\u001b[0;32m/var/folders/5p/32fkmvsj70jdbg2qnnqwdwmc0000gn/T/ipykernel_62767/2338160784.py\u001b[0m in \u001b[0;36m<module>\u001b[0;34m\u001b[0m\n\u001b[0;32m----> 1\u001b[0;31m \u001b[0mplt\u001b[0m\u001b[0;34m.\u001b[0m\u001b[0mplot\u001b[0m\u001b[0;34m(\u001b[0m\u001b[0;34m*\u001b[0m\u001b[0mX\u001b[0m\u001b[0;34m[\u001b[0m\u001b[0my\u001b[0m\u001b[0;34m==\u001b[0m\u001b[0;36m0\u001b[0m\u001b[0;34m]\u001b[0m\u001b[0;34m.\u001b[0m\u001b[0mT\u001b[0m\u001b[0;34m,\u001b[0m \u001b[0;34m\".\"\u001b[0m\u001b[0;34m)\u001b[0m\u001b[0;34m\u001b[0m\u001b[0;34m\u001b[0m\u001b[0m\n\u001b[0m\u001b[1;32m      2\u001b[0m \u001b[0mplt\u001b[0m\u001b[0;34m.\u001b[0m\u001b[0mplot\u001b[0m\u001b[0;34m(\u001b[0m\u001b[0;34m*\u001b[0m\u001b[0mX\u001b[0m\u001b[0;34m[\u001b[0m\u001b[0my\u001b[0m\u001b[0;34m==\u001b[0m\u001b[0;36m1\u001b[0m\u001b[0;34m]\u001b[0m\u001b[0;34m.\u001b[0m\u001b[0mT\u001b[0m\u001b[0;34m,\u001b[0m \u001b[0;34m\".\"\u001b[0m\u001b[0;34m)\u001b[0m\u001b[0;34m\u001b[0m\u001b[0;34m\u001b[0m\u001b[0m\n",
      "\u001b[0;31mTypeError\u001b[0m: only integer scalar arrays can be converted to a scalar index"
     ]
    }
   ],
   "source": [
    "plt.plot(*X[y==0].T, \".\")\n",
    "plt.plot(*X[y==1].T, \".\")"
   ]
  },
  {
   "cell_type": "code",
   "execution_count": 57,
   "id": "b335d7e9",
   "metadata": {},
   "outputs": [
    {
     "ename": "AttributeError",
     "evalue": "'tuple' object has no attribute 'T'",
     "output_type": "error",
     "traceback": [
      "\u001b[0;31m---------------------------------------------------------------------------\u001b[0m",
      "\u001b[0;31mAttributeError\u001b[0m                            Traceback (most recent call last)",
      "\u001b[0;32m/var/folders/5p/32fkmvsj70jdbg2qnnqwdwmc0000gn/T/ipykernel_62767/4156625796.py\u001b[0m in \u001b[0;36m<module>\u001b[0;34m\u001b[0m\n\u001b[0;32m----> 1\u001b[0;31m \u001b[0mplt\u001b[0m\u001b[0;34m.\u001b[0m\u001b[0mplot\u001b[0m\u001b[0;34m(\u001b[0m\u001b[0;34m*\u001b[0m\u001b[0mX\u001b[0m\u001b[0;34m.\u001b[0m\u001b[0mT\u001b[0m\u001b[0;34m)\u001b[0m\u001b[0;34m\u001b[0m\u001b[0;34m\u001b[0m\u001b[0m\n\u001b[0m",
      "\u001b[0;31mAttributeError\u001b[0m: 'tuple' object has no attribute 'T'"
     ]
    }
   ],
   "source": [
    "plt.plot(*X.T)"
   ]
  },
  {
   "cell_type": "code",
   "execution_count": 58,
   "id": "23508cc7",
   "metadata": {},
   "outputs": [
    {
     "data": {
      "text/plain": [
       "(array([[40.38908264, 10.44228744],\n",
       "        [40.38908264, 10.44228744],\n",
       "        [87.18077542, 85.18476568],\n",
       "        [87.18077542, 85.18476568],\n",
       "        [87.18077542, 85.18476568],\n",
       "        [40.38908264, 10.44228744],\n",
       "        [87.18077542, 85.18476568],\n",
       "        [40.38908264, 10.44228744],\n",
       "        [40.38908264, 10.44228744],\n",
       "        [40.38908264, 10.44228744],\n",
       "        [87.18077542, 85.18476568],\n",
       "        [87.18077542, 85.18476568],\n",
       "        [87.18077542, 85.18476568],\n",
       "        [87.18077542, 85.18476568],\n",
       "        [40.38908264, 10.44228744],\n",
       "        [40.38908264, 10.44228744],\n",
       "        [40.38908264, 10.44228744],\n",
       "        [87.18077542, 85.18476568],\n",
       "        [87.18077542, 85.18476568],\n",
       "        [40.38908264, 10.44228744],\n",
       "        [40.38908264, 10.44228744],\n",
       "        [40.38908264, 10.44228744],\n",
       "        [40.38908264, 10.44228744],\n",
       "        [87.18077542, 85.18476568],\n",
       "        [40.38908264, 10.44228744],\n",
       "        [40.38908264, 10.44228744],\n",
       "        [40.38908264, 10.44228744],\n",
       "        [40.38908264, 10.44228744],\n",
       "        [40.38908264, 10.44228744],\n",
       "        [40.38908264, 10.44228744],\n",
       "        [87.18077542, 85.18476568],\n",
       "        [40.38908264, 10.44228744],\n",
       "        [40.38908264, 10.44228744],\n",
       "        [87.18077542, 85.18476568],\n",
       "        [87.18077542, 85.18476568],\n",
       "        [87.18077542, 85.18476568],\n",
       "        [40.38908264, 10.44228744],\n",
       "        [40.38908264, 10.44228744],\n",
       "        [40.38908264, 10.44228744],\n",
       "        [40.38908264, 10.44228744],\n",
       "        [87.18077542, 85.18476568],\n",
       "        [40.38908264, 10.44228744],\n",
       "        [40.38908264, 10.44228744],\n",
       "        [40.38908264, 10.44228744],\n",
       "        [40.38908264, 10.44228744],\n",
       "        [87.18077542, 85.18476568],\n",
       "        [40.38908264, 10.44228744],\n",
       "        [87.18077542, 85.18476568],\n",
       "        [40.38908264, 10.44228744],\n",
       "        [40.38908264, 10.44228744],\n",
       "        [40.38908264, 10.44228744],\n",
       "        [40.38908264, 10.44228744],\n",
       "        [40.38908264, 10.44228744],\n",
       "        [40.38908264, 10.44228744],\n",
       "        [87.18077542, 85.18476568],\n",
       "        [40.38908264, 10.44228744],\n",
       "        [40.38908264, 10.44228744],\n",
       "        [87.18077542, 85.18476568],\n",
       "        [40.38908264, 10.44228744],\n",
       "        [40.38908264, 10.44228744],\n",
       "        [87.18077542, 85.18476568],\n",
       "        [87.18077542, 85.18476568],\n",
       "        [87.18077542, 85.18476568],\n",
       "        [40.38908264, 10.44228744],\n",
       "        [87.18077542, 85.18476568],\n",
       "        [87.18077542, 85.18476568],\n",
       "        [40.38908264, 10.44228744],\n",
       "        [40.38908264, 10.44228744],\n",
       "        [87.18077542, 85.18476568],\n",
       "        [87.18077542, 85.18476568],\n",
       "        [40.38908264, 10.44228744],\n",
       "        [40.38908264, 10.44228744],\n",
       "        [40.38908264, 10.44228744],\n",
       "        [87.18077542, 85.18476568],\n",
       "        [40.38908264, 10.44228744],\n",
       "        [87.18077542, 85.18476568],\n",
       "        [40.38908264, 10.44228744],\n",
       "        [87.18077542, 85.18476568],\n",
       "        [40.38908264, 10.44228744],\n",
       "        [40.38908264, 10.44228744],\n",
       "        [87.18077542, 85.18476568],\n",
       "        [87.18077542, 85.18476568],\n",
       "        [87.18077542, 85.18476568],\n",
       "        [87.18077542, 85.18476568],\n",
       "        [40.38908264, 10.44228744],\n",
       "        [40.38908264, 10.44228744],\n",
       "        [87.18077542, 85.18476568],\n",
       "        [87.18077542, 85.18476568],\n",
       "        [87.18077542, 85.18476568],\n",
       "        [87.18077542, 85.18476568],\n",
       "        [40.38908264, 10.44228744],\n",
       "        [87.18077542, 85.18476568],\n",
       "        [87.18077542, 85.18476568],\n",
       "        [40.38908264, 10.44228744],\n",
       "        [87.18077542, 85.18476568],\n",
       "        [40.38908264, 10.44228744],\n",
       "        [40.38908264, 10.44228744],\n",
       "        [40.38908264, 10.44228744],\n",
       "        [87.18077542, 85.18476568],\n",
       "        [40.38908264, 10.44228744]]),\n",
       " array([[ True,  True, False, False, False,  True, False,  True,  True,\n",
       "          True, False, False, False, False,  True,  True,  True, False,\n",
       "         False,  True,  True,  True,  True, False,  True,  True,  True,\n",
       "          True,  True,  True, False,  True,  True, False, False, False,\n",
       "          True,  True,  True,  True, False,  True,  True,  True,  True,\n",
       "         False,  True, False,  True,  True,  True,  True,  True,  True,\n",
       "         False,  True,  True, False,  True,  True, False, False, False,\n",
       "          True, False, False,  True,  True, False, False,  True,  True,\n",
       "          True, False,  True, False,  True, False,  True,  True, False,\n",
       "         False, False, False,  True,  True, False, False, False, False,\n",
       "          True, False, False,  True, False,  True,  True,  True, False,\n",
       "          True],\n",
       "        [ True,  True, False, False, False,  True, False,  True,  True,\n",
       "          True, False, False, False, False,  True,  True,  True, False,\n",
       "         False,  True,  True,  True,  True, False,  True,  True,  True,\n",
       "          True,  True,  True, False,  True,  True, False, False, False,\n",
       "          True,  True,  True,  True, False,  True,  True,  True,  True,\n",
       "         False,  True, False,  True,  True,  True,  True,  True,  True,\n",
       "         False,  True,  True, False,  True,  True, False, False, False,\n",
       "          True, False, False,  True,  True, False, False,  True,  True,\n",
       "          True, False,  True, False,  True, False,  True,  True, False,\n",
       "         False, False, False,  True,  True, False, False, False, False,\n",
       "          True, False, False,  True, False,  True,  True,  True, False,\n",
       "          True],\n",
       "        [False, False,  True,  True,  True, False,  True, False, False,\n",
       "         False,  True,  True,  True,  True, False, False, False,  True,\n",
       "          True, False, False, False, False,  True, False, False, False,\n",
       "         False, False, False,  True, False, False,  True,  True,  True,\n",
       "         False, False, False, False,  True, False, False, False, False,\n",
       "          True, False,  True, False, False, False, False, False, False,\n",
       "          True, False, False,  True, False, False,  True,  True,  True,\n",
       "         False,  True,  True, False, False,  True,  True, False, False,\n",
       "         False,  True, False,  True, False,  True, False, False,  True,\n",
       "          True,  True,  True, False, False,  True,  True,  True,  True,\n",
       "         False,  True,  True, False,  True, False, False, False,  True,\n",
       "         False],\n",
       "        [False, False,  True,  True,  True, False,  True, False, False,\n",
       "         False,  True,  True,  True,  True, False, False, False,  True,\n",
       "          True, False, False, False, False,  True, False, False, False,\n",
       "         False, False, False,  True, False, False,  True,  True,  True,\n",
       "         False, False, False, False,  True, False, False, False, False,\n",
       "          True, False,  True, False, False, False, False, False, False,\n",
       "          True, False, False,  True, False, False,  True,  True,  True,\n",
       "         False,  True,  True, False, False,  True,  True, False, False,\n",
       "         False,  True, False,  True, False,  True, False, False,  True,\n",
       "          True,  True,  True, False, False,  True,  True,  True,  True,\n",
       "         False,  True,  True, False,  True, False, False, False,  True,\n",
       "         False]]),\n",
       " array([[False,  True],\n",
       "        [ True, False],\n",
       "        [False,  True],\n",
       "        [ True, False]]))"
      ]
     },
     "execution_count": 58,
     "metadata": {},
     "output_type": "execute_result"
    }
   ],
   "source": [
    "X"
   ]
  },
  {
   "cell_type": "code",
   "execution_count": null,
   "id": "0d422dea",
   "metadata": {},
   "outputs": [],
   "source": []
  }
 ],
 "metadata": {
  "kernelspec": {
   "display_name": "mlapp-solutions",
   "language": "python",
   "name": "mlapp-solutions"
  },
  "language_info": {
   "codemirror_mode": {
    "name": "ipython",
    "version": 3
   },
   "file_extension": ".py",
   "mimetype": "text/x-python",
   "name": "python",
   "nbconvert_exporter": "python",
   "pygments_lexer": "ipython3",
   "version": "3.8.5"
  }
 },
 "nbformat": 4,
 "nbformat_minor": 5
}
